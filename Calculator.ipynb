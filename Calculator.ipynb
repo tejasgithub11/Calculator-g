{
 "cells": [
  {
   "cell_type": "code",
   "execution_count": 1,
   "id": "fff83393",
   "metadata": {},
   "outputs": [
    {
     "name": "stdout",
     "output_type": "stream",
     "text": [
      "Enter the First number19\n",
      "Enter the second number18\n",
      "Enter arithmatic Symbol                 from(+,-,/,*,%,//):+\n",
      "19 + 18 = 37\n"
     ]
    }
   ],
   "source": [
    "num1 = int(input(\"Enter the First number\"))\n",
    "num2 = int(input(\"Enter the second number\"))\n",
    "operator = input(\"Enter arithmatic Symbol\\\n",
    "                 from(+,-,/,*,%,//):\")\n",
    "\n",
    "if(operator == \"+\"):\n",
    "    print(num1,operator,num2,\"=\",num1 + num2)\n",
    "elif(operator == \"-\"):\n",
    "    print(num1,operator,num2,\"=\",num1 - num2)\n",
    "elif(operator == \"/\"):\n",
    "    print(num1,operator,num2,\"=\",num1 / num2)\n",
    "elif(operator == \"*\"):  \n",
    "     print(num1,operator,num2,\"=\",num1 * num2)\n",
    "elif(operator == \"%\"):\n",
    "    print(num1,operator,num2,\"=\",num1 % num2)\n",
    "elif(operator == \"//\"):\n",
    "    print(num1,operator,num2,\"=\",num1 // num2)\n",
    "else:\n",
    "    print(\"Enter a correct operator\")\n",
    "    "
   ]
  },
  {
   "cell_type": "code",
   "execution_count": null,
   "id": "f9ba6f17",
   "metadata": {},
   "outputs": [],
   "source": []
  }
 ],
 "metadata": {
  "kernelspec": {
   "display_name": "Python 3 (ipykernel)",
   "language": "python",
   "name": "python3"
  },
  "language_info": {
   "codemirror_mode": {
    "name": "ipython",
    "version": 3
   },
   "file_extension": ".py",
   "mimetype": "text/x-python",
   "name": "python",
   "nbconvert_exporter": "python",
   "pygments_lexer": "ipython3",
   "version": "3.9.12"
  }
 },
 "nbformat": 4,
 "nbformat_minor": 5
}
